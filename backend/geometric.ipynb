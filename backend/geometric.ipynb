{
 "cells": [
  {
   "cell_type": "code",
   "execution_count": 1,
   "id": "7c86f2e8",
   "metadata": {},
   "outputs": [],
   "source": [
    "import cv2\n",
    "import numpy as np\n",
    "\n",
    "class Geometric:\n",
    "    def __init__(self):\n",
    "        pass\n",
    "\n"
   ]
  },
  {
   "cell_type": "code",
   "execution_count": 12,
   "id": "c795a048",
   "metadata": {},
   "outputs": [],
   "source": [
    "class Transformations(Geometric):\n",
    "    def __init__(self):\n",
    "        super().__init__()\n",
    "\n",
    "    def affine_transform(self, image, src_points, dst_points):\n",
    "        M = cv2.getAffineTransform(np.float32(src_points), np.float32(dst_points))\n",
    "        return cv2.warpAffine(image, M, (image.shape[1], image.shape[0]))\n",
    "\n",
    "    def perspective_transform(self, image, src_points, dst_points):\n",
    "        M = cv2.getPerspectiveTransform(np.float32(src_points), np.float32(dst_points))\n",
    "        return cv2.warpPerspective(image, M, (image.shape[1], image.shape[0]))\n",
    "\n",
    "    def warp_affine(self, image, src_pts,dst_pts):\n",
    "        M = cv2.getAffineTransform(np.float32(src_pts), np.float32(dst_pts))\n",
    "        return cv2.warpAffine(image, M, (image.shape[1], image.shape[0]))\n",
    "\n",
    "    def warp_perspective(self, image, src_pts,dst_pts):\n",
    "        M = cv2.getPerspectiveTransform(np.float32(src_pts), np.float32(dst_pts))\n",
    "\n",
    "        return cv2.warpPerspective(image, M, (image.shape[1], image.shape[0]))\n",
    "\n",
    "    def rotate(self, image, angle, center=None, scale=1.0):\n",
    "        (h, w) = image.shape[:2]\n",
    "        if center is None:\n",
    "            center = (w // 2, h // 2)\n",
    "        M = cv2.getRotationMatrix2D(center, angle, scale)\n",
    "        return cv2.warpAffine(image, M, (w, h))\n",
    "\n",
    "    def translate(self, image, tx=10, ty=10):\n",
    "        M = np.float32([[1, 0, tx], [0, 1, ty]])\n",
    "        return cv2.warpAffine(image, M, (image.shape[1], image.shape[0]))\n",
    "\n",
    "    def flip(self, image, flip_type):\n",
    "        if flip_type == \"vertical\":\n",
    "            return cv2.flip(image, 0)\n",
    "        elif flip_type == \"horizontal\":\n",
    "            return cv2.flip(image, 1)\n",
    "\n",
    "    def scale(self, image, fx=1, fy=1):\n",
    "        return cv2.resize(image, None, fx=fx, fy=fy, interpolation=cv2.INTER_LINEAR)"
   ]
  },
  {
   "cell_type": "code",
   "execution_count": 13,
   "id": "c7d941e2",
   "metadata": {},
   "outputs": [],
   "source": [
    "trans = Transformations()"
   ]
  },
  {
   "cell_type": "code",
   "execution_count": 19,
   "id": "b5e94874",
   "metadata": {},
   "outputs": [],
   "source": [
    "image = cv2.imread(r\"D:\\WORK\\react\\vision\\backend\\image.jpg\")"
   ]
  },
  {
   "cell_type": "code",
   "execution_count": 31,
   "id": "03506045",
   "metadata": {},
   "outputs": [],
   "source": [
    "img = trans.affine_transform(image, src_points=[[50,50],[200,50],[50,200]], dst_points=[[10,100],[200,50],[100,250]])"
   ]
  },
  {
   "cell_type": "code",
   "execution_count": 15,
   "id": "3a24ccd4",
   "metadata": {},
   "outputs": [
    {
     "data": {
      "text/plain": [
       "-1"
      ]
     },
     "execution_count": 15,
     "metadata": {},
     "output_type": "execute_result"
    }
   ],
   "source": [
    "cv2.imshow(\"window\",img)\n",
    "cv2.waitKey(0)"
   ]
  },
  {
   "cell_type": "code",
   "execution_count": 16,
   "id": "6210f539",
   "metadata": {},
   "outputs": [],
   "source": [
    "img = trans.scale(image,fx=0.1,fy=0.5)\n"
   ]
  },
  {
   "cell_type": "code",
   "execution_count": 20,
   "id": "6dd3eed2",
   "metadata": {},
   "outputs": [],
   "source": [
    "img = trans.translate(image,tx=-100,ty=100)"
   ]
  },
  {
   "cell_type": "code",
   "execution_count": 24,
   "id": "8da4f6b6",
   "metadata": {},
   "outputs": [],
   "source": [
    "img = trans.rotate(image,angle=90)"
   ]
  },
  {
   "cell_type": "code",
   "execution_count": 33,
   "id": "816b98f7",
   "metadata": {},
   "outputs": [],
   "source": [
    "img = trans.perspective_transform(image,[[56,65],[368,52],[28,387],[389,390]],[[0,0],[300,0],[0,300],[300,300]])"
   ]
  },
  {
   "cell_type": "code",
   "execution_count": 50,
   "id": "89886afa",
   "metadata": {},
   "outputs": [],
   "source": [
    "src_pts = [[50, 50], [200, 50], [50, 200]]\n",
    "dst_pts = [[60, 70], [220, 80], [70, 250]]\n",
    "img = trans.warp_affine(image,src_pts,dst_pts)  "
   ]
  },
  {
   "cell_type": "code",
   "execution_count": 63,
   "id": "37dd7476",
   "metadata": {},
   "outputs": [],
   "source": [
    "src_pts = [[0, 0], [300, 0], [0, 300], [300, 300]]\n",
    "dst_pts = [[50, 50], [250, 50], [80, 300], [280, 300]]\n",
    "img = trans.warp_perspective(image,src_pts,dst_pts)"
   ]
  },
  {
   "cell_type": "code",
   "execution_count": 14,
   "id": "1d645c07",
   "metadata": {},
   "outputs": [],
   "source": [
    "img = trans.flip(image,flip_type=\"vertical\")"
   ]
  }
 ],
 "metadata": {
  "kernelspec": {
   "display_name": "Python 3",
   "language": "python",
   "name": "python3"
  },
  "language_info": {
   "codemirror_mode": {
    "name": "ipython",
    "version": 3
   },
   "file_extension": ".py",
   "mimetype": "text/x-python",
   "name": "python",
   "nbconvert_exporter": "python",
   "pygments_lexer": "ipython3",
   "version": "3.10.0"
  }
 },
 "nbformat": 4,
 "nbformat_minor": 5
}
